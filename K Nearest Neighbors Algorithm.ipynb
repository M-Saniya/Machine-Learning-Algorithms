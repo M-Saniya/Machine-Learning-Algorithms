{
 "cells": [
  {
   "cell_type": "markdown",
   "metadata": {},
   "source": [
    "# Working on iris data"
   ]
  },
  {
   "cell_type": "markdown",
   "metadata": {},
   "source": [
    "#### Loading Data Set"
   ]
  },
  {
   "cell_type": "code",
   "execution_count": 33,
   "metadata": {},
   "outputs": [],
   "source": [
    "from sklearn.datasets import load_iris\n",
    "iris = load_iris()"
   ]
  },
  {
   "cell_type": "code",
   "execution_count": 7,
   "metadata": {},
   "outputs": [
    {
     "data": {
      "text/plain": [
       "dict_keys(['data', 'target', 'frame', 'target_names', 'DESCR', 'feature_names', 'filename'])"
      ]
     },
     "execution_count": 7,
     "metadata": {},
     "output_type": "execute_result"
    }
   ],
   "source": [
    "iris.keys()"
   ]
  },
  {
   "cell_type": "code",
   "execution_count": 8,
   "metadata": {},
   "outputs": [
    {
     "name": "stdout",
     "output_type": "stream",
     "text": [
      "['sepal length (cm)', 'sepal width (cm)', 'petal length (cm)', 'petal width (cm)']\n"
     ]
    }
   ],
   "source": [
    "# Feature variable\n",
    "print(iris[\"feature_names\"])"
   ]
  },
  {
   "cell_type": "code",
   "execution_count": 9,
   "metadata": {},
   "outputs": [
    {
     "name": "stdout",
     "output_type": "stream",
     "text": [
      "['setosa' 'versicolor' 'virginica']\n"
     ]
    }
   ],
   "source": [
    "# Target variable name\n",
    "print(iris[\"target_names\"])"
   ]
  },
  {
   "cell_type": "code",
   "execution_count": 10,
   "metadata": {},
   "outputs": [
    {
     "data": {
      "text/plain": [
       "(150, 4)"
      ]
     },
     "execution_count": 10,
     "metadata": {},
     "output_type": "execute_result"
    }
   ],
   "source": [
    "# Shape of data\n",
    "iris[\"data\"].shape"
   ]
  },
  {
   "cell_type": "code",
   "execution_count": 11,
   "metadata": {},
   "outputs": [
    {
     "data": {
      "text/plain": [
       "array([[5.1, 3.5, 1.4, 0.2],\n",
       "       [4.9, 3. , 1.4, 0.2],\n",
       "       [4.7, 3.2, 1.3, 0.2],\n",
       "       [4.6, 3.1, 1.5, 0.2],\n",
       "       [5. , 3.6, 1.4, 0.2],\n",
       "       [5.4, 3.9, 1.7, 0.4],\n",
       "       [4.6, 3.4, 1.4, 0.3],\n",
       "       [5. , 3.4, 1.5, 0.2],\n",
       "       [4.4, 2.9, 1.4, 0.2],\n",
       "       [4.9, 3.1, 1.5, 0.1]])"
      ]
     },
     "execution_count": 11,
     "metadata": {},
     "output_type": "execute_result"
    }
   ],
   "source": [
    "# Head of data of feature variables\n",
    "iris[\"data\"][:10]"
   ]
  },
  {
   "cell_type": "code",
   "execution_count": 12,
   "metadata": {},
   "outputs": [
    {
     "data": {
      "text/plain": [
       "array([0, 0, 0, 0, 0, 0, 0, 0, 0, 0])"
      ]
     },
     "execution_count": 12,
     "metadata": {},
     "output_type": "execute_result"
    }
   ],
   "source": [
    "# Head of data of target variable\n",
    "iris[\"target\"][:10]"
   ]
  },
  {
   "cell_type": "markdown",
   "metadata": {},
   "source": [
    "#### Train and Test Split"
   ]
  },
  {
   "cell_type": "code",
   "execution_count": 34,
   "metadata": {},
   "outputs": [],
   "source": [
    "# importing Library\n",
    "from sklearn.model_selection import train_test_split\n",
    "\n",
    "#Splitting Data\n",
    "X_train, X_test, y_train, y_test = train_test_split(iris[\"data\"], iris[\"target\"], \n",
    "                                                    test_size=0.25, random_state=804)"
   ]
  },
  {
   "cell_type": "code",
   "execution_count": 35,
   "metadata": {},
   "outputs": [
    {
     "name": "stdout",
     "output_type": "stream",
     "text": [
      "Shape of train x: (112, 4) \n",
      "Shape of train y: (112,)\n",
      "Shape of test x: (38, 4) \n",
      "Shape of test y: (38,)\n"
     ]
    }
   ],
   "source": [
    "# Shape of train and test data\n",
    "print(\"Shape of train x:\",X_train.shape,\"\\nShape of train y:\",y_train.shape)\n",
    "print(\"Shape of test x:\",X_test.shape,\"\\nShape of test y:\",y_test.shape)"
   ]
  },
  {
   "cell_type": "markdown",
   "metadata": {},
   "source": [
    "## 1 Nearest Neighbour method"
   ]
  },
  {
   "cell_type": "code",
   "execution_count": 1,
   "metadata": {},
   "outputs": [],
   "source": [
    "# Building a function of ! Nearest Neighbour\n",
    "import numpy as np\n",
    "import math\n",
    "def NN(X_train,y_train, X_test):\n",
    "    dist = []\n",
    "    y_predicted = []\n",
    "    for i in range(len(X_test)):\n",
    "        dis = 0\n",
    "        minimum = math.inf\n",
    "        y_pred = 0\n",
    "        for j in range(len(X_train)):\n",
    "            dis = np.sqrt(sum((X_train[j]-X_test[i])**2)) \n",
    "            if minimum > dis: # Finding minimum dist\n",
    "                minimum = dis\n",
    "                y_pred = y_train[j]\n",
    "        dist.append(dis)\n",
    "        y_predicted.append(y_pred)\n",
    "    return y_predicted"
   ]
  },
  {
   "cell_type": "markdown",
   "metadata": {},
   "source": [
    "#### Applying Nearest Neighbour function on riris data"
   ]
  },
  {
   "cell_type": "code",
   "execution_count": 36,
   "metadata": {},
   "outputs": [],
   "source": [
    "# Applying a Nearest Neighbour function on data\n",
    "y_predicted_iris = NN(X_train,y_train, X_test)"
   ]
  },
  {
   "cell_type": "markdown",
   "metadata": {},
   "source": [
    "#### NN Model Evaluation on iris data"
   ]
  },
  {
   "cell_type": "code",
   "execution_count": 46,
   "metadata": {},
   "outputs": [
    {
     "name": "stdout",
     "output_type": "stream",
     "text": [
      "Error of NN Model where k = 3: 0.03\n",
      "Accuracy of NN Model where k = 3: 0.9736842105263158\n"
     ]
    }
   ],
   "source": [
    "# Accuracy and Error Calculation\n",
    "error_iris = np.mean((y_test != y_predicted_iris))\n",
    "accuracy_iris = np.mean((y_test == y_predicted_iris))\n",
    "print(\"Error of NN Model where k = 3:\",round(error_iris,2))\n",
    "print(\"Accuracy of NN Model where k = 3:\", accuracy_iris,)"
   ]
  },
  {
   "cell_type": "markdown",
   "metadata": {},
   "source": [
    "## 3 Nearest Neighbour method"
   ]
  },
  {
   "cell_type": "code",
   "execution_count": 2,
   "metadata": {},
   "outputs": [],
   "source": [
    "# Building a function of ! Nearest Neighbour\n",
    "import numpy as np\n",
    "import math\n",
    "def KNN(X_train,y_train, X_test, n):\n",
    "    y_predicted = []\n",
    "    for i in range(len(X_test)):\n",
    "        dis = []\n",
    "        mini = math.inf\n",
    "        y_pred = 0 \n",
    "        dis_k = []\n",
    "        neighbour = []\n",
    "        nearest_neighbour = []\n",
    "        for j in range(len(X_train)):\n",
    "            dis.append([np.sqrt(sum((X_train[j]-X_test[i])**2)),y_train[j]])\n",
    "            dis_sorted = sort(dis)\n",
    "            neighbour = dis_sorted[:n]\n",
    "            test = sum(neighbour,[])[1::2]\n",
    "            nearest_neighbour = max(test,key=test.count)\n",
    "        y_predicted.append(nearest_neighbour)\n",
    "    return y_predicted"
   ]
  },
  {
   "cell_type": "code",
   "execution_count": 3,
   "metadata": {},
   "outputs": [],
   "source": [
    "# Making own sorting function\n",
    "def sort(dis):\n",
    "    for i in range(len(dis)):\n",
    "        for j in range(i + 1, len(dis)):\n",
    "            if dis[i] > dis[j]:\n",
    "                dis[i],dis[j] = dis[j],dis[i]\n",
    "    return dis"
   ]
  },
  {
   "cell_type": "markdown",
   "metadata": {},
   "source": [
    "#### Applying k Nearest Neighbour function on riris data with k = 3"
   ]
  },
  {
   "cell_type": "code",
   "execution_count": 40,
   "metadata": {
    "scrolled": true
   },
   "outputs": [],
   "source": [
    "# Applying KNN Function with k = 3\n",
    "y_predicted_iris_knn = KNN(X_train,y_train, X_test, 5)"
   ]
  },
  {
   "cell_type": "markdown",
   "metadata": {},
   "source": [
    "#### KNN Model Evaluation on iris data"
   ]
  },
  {
   "cell_type": "code",
   "execution_count": 41,
   "metadata": {},
   "outputs": [
    {
     "name": "stdout",
     "output_type": "stream",
     "text": [
      "Error of KNN Model where k = 3: 0.03\n",
      "Accuracy of KNN Model where k = 3: 0.97\n"
     ]
    }
   ],
   "source": [
    "# Accuracy and Error Calculation\n",
    "error_iris_knn = np.mean((y_test != y_predicted_iris_knn))\n",
    "accuracy_iris_knn = np.mean((y_test == y_predicted_iris_knn))\n",
    "print(\"Error of KNN Model where k = 3:\",round(error_iris_knn,2))\n",
    "print(\"Accuracy of KNN Model where k = 3:\", round(accuracy_iris_knn,2))"
   ]
  }
 ],
 "metadata": {
  "kernelspec": {
   "display_name": "Python 3",
   "language": "python",
   "name": "python3"
  },
  "language_info": {
   "codemirror_mode": {
    "name": "ipython",
    "version": 3
   },
   "file_extension": ".py",
   "mimetype": "text/x-python",
   "name": "python",
   "nbconvert_exporter": "python",
   "pygments_lexer": "ipython3",
   "version": "3.8.5"
  }
 },
 "nbformat": 4,
 "nbformat_minor": 4
}
